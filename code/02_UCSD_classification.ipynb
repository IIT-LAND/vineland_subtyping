{
 "cells": [
  {
   "cell_type": "markdown",
   "metadata": {},
   "source": [
    "# UCSD classification on VABS domain\n",
    "\n",
    "in this notebook UCSD subject, whose T1<72 months, are classified in respective VABS domain clusters. \n",
    "\n",
    "The classifier is trained on NDAR testset."
   ]
  },
  {
   "cell_type": "code",
   "execution_count": 1,
   "metadata": {},
   "outputs": [],
   "source": [
    "#import libraries\n",
    "from strat.create_dataset import dataset, prepare_imputation\n",
    "#from strat.run_rcv import RCV, relabel\n",
    "import strat.utils as ut\n",
    "import logging\n",
    "import numpy as np\n",
    "import pandas as pd\n",
    "import logging\n",
    "from strat.create_long_ndar import build_long\n",
    "from sklearn.impute import KNNImputer\n",
    "from sklearn.neighbors import KNeighborsClassifier\n",
    "import re\n",
    "from sklearn.preprocessing import StandardScaler\n",
    "from umap import UMAP\n",
    "from strat.ucsd_dataset_mod import  create_new,predict_labels,predict_labels_no_umap #prepare_ucsd,\n",
    "import pickle as pkl\n",
    "import os\n",
    "from reval.best_nclust_cv import FindBestClustCV\n",
    "from sklearn.cluster import KMeans\n",
    "from strat.visualization import _scatter_plot\n",
    "from strat.run_rcv import _build_distmat\n",
    "from sklearn.impute import KNNImputer"
   ]
  },
  {
   "cell_type": "markdown",
   "metadata": {},
   "source": [
    "## import data and reformat them \n",
    "select only a subset of them, dived input features from labels"
   ]
  },
  {
   "cell_type": "code",
   "execution_count": 2,
   "metadata": {},
   "outputs": [],
   "source": [
    "main_path = '/Users/vmandelli/OneDrive - Fondazione Istituto Italiano Tecnologia/vineland_proj_edition'\n",
    "data_path = os.path.join(main_path,\"data\",\"tidy\",\"nda\")\n",
    "results_path = os.path.join(main_path,\"results\")\n",
    "plot_path = os.path.join(main_path,\"plot\")"
   ]
  },
  {
   "cell_type": "code",
   "execution_count": 3,
   "metadata": {},
   "outputs": [],
   "source": [
    "# import data from NDA, already splitted into age bins. \n",
    "file = \"VABS_withcluster_edition_041022.csv\"\n",
    "new_dict_p1 = pd.read_csv(os.path.join(results_path,file),\n",
    "                        header=0,\n",
    "                        low_memory=False,\n",
    "                        index_col='subjectkey')\n",
    "\n",
    "\n",
    "# split train and test\n",
    "x_tr = new_dict_p1[new_dict_p1['TR_TS']=='tr']\n",
    "x_ts = new_dict_p1[new_dict_p1['TR_TS']=='ts']"
   ]
  },
  {
   "cell_type": "code",
   "execution_count": 4,
   "metadata": {},
   "outputs": [],
   "source": [
    "# imputation of missing: fit on the train and transform the test\n",
    "impute = KNNImputer(n_neighbors=5)\n",
    "\n",
    "col2use = ['communicationdomain_totalb','livingskillsdomain_totalb',\n",
    "           'socializationdomain_totalb','motorskillsdomain_totalb']\n",
    "\n",
    "\n",
    "X_tr_prepr = pd.DataFrame(impute.fit_transform(x_tr[col2use]), index = x_tr.index)\n",
    "X_ts_prepr = pd.DataFrame(impute.transform(x_ts[col2use]), index = x_ts.index)\n"
   ]
  },
  {
   "cell_type": "code",
   "execution_count": 5,
   "metadata": {},
   "outputs": [
    {
     "data": {
      "text/plain": [
       "(1201, 28)"
      ]
     },
     "execution_count": 5,
     "metadata": {},
     "output_type": "execute_result"
    }
   ],
   "source": [
    "# Import data from UCSD\n",
    "#ucsd_data = pd.read_csv(os.path.join(ut.tidy_data_folder,'ucsd','tidy_ucsd_long_asd_onlyT1.csv'),index_col='subjectid')\n",
    "\n",
    "# Import BETA CORRECTION data from UCSD\n",
    "\n",
    "ucsd_data = pd.read_csv(os.path.join(ut.tidy_data_folder,'ucsd','UCSD_ASD_T1_4reval_edition_corrected.csv'),index_col='subjectid')\n",
    "ucsd_data.shape\n"
   ]
  },
  {
   "cell_type": "code",
   "execution_count": 6,
   "metadata": {},
   "outputs": [],
   "source": [
    "#define the columns I want as features (VABS domanin columns)\n",
    "\n",
    "ndar_feat = ['communicationdomain_totalb',\n",
    "             'livingskillsdomain_totalb',\n",
    "             'socializationdomain_totalb',\n",
    "             'motorskillsdomain_totalb']\n",
    "#oringinal columns\n",
    "ucsd_feat = ['vine_ComTotal_DomStd',\n",
    "             'vine_DlyTotal_DomStd',\n",
    "             'vine_SocTotal_DomStd',\n",
    "             'vine_MtrTotal_DomStd']\n",
    "# beta corrected\n",
    "#ucsd_feat = ['new_vine_ComTotal_DomStd',\n",
    "#             'new_vine_DlyTotal_DomStd',\n",
    "#            'new_vine_SocTotal_DomStd',\n",
    "#            'new_vine_MtrTotal_DomStd']"
   ]
  },
  {
   "cell_type": "code",
   "execution_count": 8,
   "metadata": {},
   "outputs": [
    {
     "data": {
      "text/html": [
       "<div>\n",
       "<style scoped>\n",
       "    .dataframe tbody tr th:only-of-type {\n",
       "        vertical-align: middle;\n",
       "    }\n",
       "\n",
       "    .dataframe tbody tr th {\n",
       "        vertical-align: top;\n",
       "    }\n",
       "\n",
       "    .dataframe thead th {\n",
       "        text-align: right;\n",
       "    }\n",
       "</style>\n",
       "<table border=\"1\" class=\"dataframe\">\n",
       "  <thead>\n",
       "    <tr style=\"text-align: right;\">\n",
       "      <th></th>\n",
       "      <th>0</th>\n",
       "      <th>1</th>\n",
       "      <th>2</th>\n",
       "      <th>3</th>\n",
       "    </tr>\n",
       "    <tr>\n",
       "      <th>subjectkey</th>\n",
       "      <th></th>\n",
       "      <th></th>\n",
       "      <th></th>\n",
       "      <th></th>\n",
       "    </tr>\n",
       "  </thead>\n",
       "  <tbody>\n",
       "    <tr>\n",
       "      <th>NDARFE664RE3</th>\n",
       "      <td>85.114274</td>\n",
       "      <td>80.097414</td>\n",
       "      <td>73.081418</td>\n",
       "      <td>77.312881</td>\n",
       "    </tr>\n",
       "    <tr>\n",
       "      <th>NDARTH626RWH</th>\n",
       "      <td>42.000000</td>\n",
       "      <td>46.000000</td>\n",
       "      <td>55.000000</td>\n",
       "      <td>75.000000</td>\n",
       "    </tr>\n",
       "    <tr>\n",
       "      <th>NDARPM268PMP</th>\n",
       "      <td>48.994312</td>\n",
       "      <td>69.682299</td>\n",
       "      <td>51.249438</td>\n",
       "      <td>66.268552</td>\n",
       "    </tr>\n",
       "    <tr>\n",
       "      <th>NDARCL082FGC</th>\n",
       "      <td>97.994312</td>\n",
       "      <td>112.682299</td>\n",
       "      <td>83.249438</td>\n",
       "      <td>111.268552</td>\n",
       "    </tr>\n",
       "    <tr>\n",
       "      <th>NDARVL893WB0</th>\n",
       "      <td>77.114274</td>\n",
       "      <td>76.097414</td>\n",
       "      <td>87.081418</td>\n",
       "      <td>86.312881</td>\n",
       "    </tr>\n",
       "  </tbody>\n",
       "</table>\n",
       "</div>"
      ],
      "text/plain": [
       "                      0           1          2           3\n",
       "subjectkey                                                \n",
       "NDARFE664RE3  85.114274   80.097414  73.081418   77.312881\n",
       "NDARTH626RWH  42.000000   46.000000  55.000000   75.000000\n",
       "NDARPM268PMP  48.994312   69.682299  51.249438   66.268552\n",
       "NDARCL082FGC  97.994312  112.682299  83.249438  111.268552\n",
       "NDARVL893WB0  77.114274   76.097414  87.081418   86.312881"
      ]
     },
     "execution_count": 8,
     "metadata": {},
     "output_type": "execute_result"
    }
   ],
   "source": [
    "# select NDA test set as the new training set (to train the classifier), so that we avoid circularities of using data multiple times.\n",
    "new_TR_data =  X_ts_prepr\n",
    "new_TR_data.colnames = ndar_feat\n",
    "new_TR_data.head()"
   ]
  },
  {
   "cell_type": "code",
   "execution_count": 9,
   "metadata": {},
   "outputs": [
    {
     "name": "stdout",
     "output_type": "stream",
     "text": [
      "subjectkey\n",
      "NDARFE664RE3        0\n",
      "NDARTH626RWH        2\n",
      "NDARPM268PMP        2\n",
      "NDARCL082FGC        1\n",
      "NDARVL893WB0        1\n",
      "                   ..\n",
      "NDARFR137BN3        1\n",
      "NDAR_INVYY983ZGL    2\n",
      "NDARKV375JZW        2\n",
      "NDARHV294XMW        2\n",
      "NDARHX114VE2        2\n",
      "Name: cluster_domain, Length: 495, dtype: int64\n"
     ]
    },
    {
     "data": {
      "text/html": [
       "<div>\n",
       "<style scoped>\n",
       "    .dataframe tbody tr th:only-of-type {\n",
       "        vertical-align: middle;\n",
       "    }\n",
       "\n",
       "    .dataframe tbody tr th {\n",
       "        vertical-align: top;\n",
       "    }\n",
       "\n",
       "    .dataframe thead th {\n",
       "        text-align: right;\n",
       "    }\n",
       "</style>\n",
       "<table border=\"1\" class=\"dataframe\">\n",
       "  <thead>\n",
       "    <tr style=\"text-align: right;\">\n",
       "      <th></th>\n",
       "      <th>0</th>\n",
       "      <th>1</th>\n",
       "      <th>2</th>\n",
       "      <th>3</th>\n",
       "    </tr>\n",
       "    <tr>\n",
       "      <th>subjectkey</th>\n",
       "      <th></th>\n",
       "      <th></th>\n",
       "      <th></th>\n",
       "      <th></th>\n",
       "    </tr>\n",
       "  </thead>\n",
       "  <tbody>\n",
       "    <tr>\n",
       "      <th>NDARFE664RE3</th>\n",
       "      <td>85.114274</td>\n",
       "      <td>80.097414</td>\n",
       "      <td>73.081418</td>\n",
       "      <td>77.312881</td>\n",
       "    </tr>\n",
       "    <tr>\n",
       "      <th>NDARTH626RWH</th>\n",
       "      <td>42.000000</td>\n",
       "      <td>46.000000</td>\n",
       "      <td>55.000000</td>\n",
       "      <td>75.000000</td>\n",
       "    </tr>\n",
       "    <tr>\n",
       "      <th>NDARPM268PMP</th>\n",
       "      <td>48.994312</td>\n",
       "      <td>69.682299</td>\n",
       "      <td>51.249438</td>\n",
       "      <td>66.268552</td>\n",
       "    </tr>\n",
       "    <tr>\n",
       "      <th>NDARCL082FGC</th>\n",
       "      <td>97.994312</td>\n",
       "      <td>112.682299</td>\n",
       "      <td>83.249438</td>\n",
       "      <td>111.268552</td>\n",
       "    </tr>\n",
       "    <tr>\n",
       "      <th>NDARVL893WB0</th>\n",
       "      <td>77.114274</td>\n",
       "      <td>76.097414</td>\n",
       "      <td>87.081418</td>\n",
       "      <td>86.312881</td>\n",
       "    </tr>\n",
       "  </tbody>\n",
       "</table>\n",
       "</div>"
      ],
      "text/plain": [
       "                      0           1          2           3\n",
       "subjectkey                                                \n",
       "NDARFE664RE3  85.114274   80.097414  73.081418   77.312881\n",
       "NDARTH626RWH  42.000000   46.000000  55.000000   75.000000\n",
       "NDARPM268PMP  48.994312   69.682299  51.249438   66.268552\n",
       "NDARCL082FGC  97.994312  112.682299  83.249438  111.268552\n",
       "NDARVL893WB0  77.114274   76.097414  87.081418   86.312881"
      ]
     },
     "execution_count": 9,
     "metadata": {},
     "output_type": "execute_result"
    }
   ],
   "source": [
    "# Prepare it to be in the correct format to be the train set\n",
    "X_tr = new_TR_data\n",
    "y_tr = x_ts['cluster_domain']\n",
    "\n",
    "#check it is ok (it should have subject on the rows and the 4 VABS subscles in the columns (COM-DLS-SOC-MOT))\n",
    "print(y_tr)\n",
    "X_tr.head()"
   ]
  },
  {
   "cell_type": "code",
   "execution_count": 10,
   "metadata": {},
   "outputs": [
    {
     "name": "stderr",
     "output_type": "stream",
     "text": [
      "10:21:05, INFO  Selected subjects at their first encounter done at age included in period P1 (<72). Mean (sd) interview age is 25.45 (8.47) -- Min / Max:[9.56; 69.91]\n"
     ]
    },
    {
     "name": "stdout",
     "output_type": "stream",
     "text": [
      "(1185, 4)\n"
     ]
    }
   ],
   "source": [
    "# Preapre UCSD to be in the correct format to be insert in the classifies to be labels)\n",
    "X_ts = ucsd_data[ucsd_data['vine_agemo']<=72]\n",
    "\n",
    "logging.info(f' Selected subjects at their first encounter done at age included in '\n",
    "                 f'period P1 (<72). Mean (sd) interview age is {round(X_ts.vine_agemo.describe()[\"mean\"], 2)} '\n",
    "                 f'({round(X_ts.vine_agemo.describe()[\"std\"], 2)}) '\n",
    "                 f'-- Min / Max:[{round(X_ts.vine_agemo.describe()[\"min\"], 2)}; '\n",
    "                 f'{round(X_ts.vine_agemo.describe()[\"max\"], 2)}]')\n",
    "\n",
    "uscd_used_in_reval = X_ts.copy()\n",
    "X_ts= X_ts[ucsd_feat]\n",
    "\n",
    "\n",
    "print(X_ts.shape)\n"
   ]
  },
  {
   "cell_type": "code",
   "execution_count": null,
   "metadata": {},
   "outputs": [],
   "source": [
    "# preapre the DBs to insert in as the algorithm requires\n",
    "\n",
    "#X_tr, y_tr, X_ts, ucsd = prepare_ucsd(new_TR_data, ucsd_data, period='P1') \n",
    "# rember python start to count from 0 , so new_dict_p1['P1'][1] 1 here means ts (= test set), \n",
    "# we train the algorithm on the NDAR test set to avoid circularity   -- From ucsd_dataselect only subject whose T1 is in P1 Range\n",
    "# problem is that reval overfit the training set,"
   ]
  },
  {
   "cell_type": "markdown",
   "metadata": {},
   "source": [
    "## train the classifier"
   ]
  },
  {
   "cell_type": "code",
   "execution_count": 11,
   "metadata": {},
   "outputs": [],
   "source": [
    "# train the classifier\n",
    "\n",
    "# initialize che classifier\n",
    "classifier = KNeighborsClassifier(n_neighbors = 5)\n",
    "\n",
    "# predict labels using a self build function strat/ucsd_dataset_mod.predict_labels\n",
    "label_dict, model_fit, Scaler, Umap = predict_labels(X_tr, X_ts, y_tr, classifier)\n"
   ]
  },
  {
   "cell_type": "code",
   "execution_count": 12,
   "metadata": {},
   "outputs": [],
   "source": [
    "# remap the labels on the original UCSD dataframe\n",
    "uscd_used_in_reval['cluster_domain']= uscd_used_in_reval.index.map(label_dict)"
   ]
  },
  {
   "cell_type": "markdown",
   "metadata": {},
   "source": [
    "## Merge the long_ucsd DB with the cluster + create fake clusters for other diagnosis\n",
    "\n",
    "take the database in long format with both ASD and TD (other diagnosis) and all the measures (vineland , mullen, ados)"
   ]
  },
  {
   "cell_type": "code",
   "execution_count": 13,
   "metadata": {},
   "outputs": [
    {
     "name": "stdout",
     "output_type": "stream",
     "text": [
      "(14880, 74)\n"
     ]
    }
   ],
   "source": [
    "# import ucsd_long all subject\n",
    "all_ucsd = pd.read_csv(os.path.join(ut.tidy_data_folder,'ucsd','tidy_ucsd_long_allsubj.csv'),index_col='subjectid')\n",
    "print(all_ucsd.shape)\n"
   ]
  },
  {
   "cell_type": "code",
   "execution_count": 14,
   "metadata": {},
   "outputs": [],
   "source": [
    "# a new_dictionary to add also TD DD LD MN and SYB (as cluster labels) :\n",
    "\n",
    "# TD (typically development)= PrevDDTyp ,PrevLDDTyp,TD  \n",
    "# DD (developmental delay) = DD+ GDD\n",
    "# LD (language delay)\n",
    "# MD (motor delay) = FMD + MD motor delay \n",
    "# syb (syblings) = Typ Sib ASD   \n",
    "\n",
    "diagnosis_dict={\"TD\":\"TD\",\n",
    "                'PrevLDDTyp':'TD',\n",
    "                'PrevDDTyp':'TD',\n",
    "                'DD': \"DD\",\n",
    "                'GDD' : 'DD',\n",
    "                'LD': \"LD\",\n",
    "                'FMD': 'MD',\n",
    "                'MD':'MD',\n",
    "                'Typ Sib ASD':\"syb\"}"
   ]
  },
  {
   "cell_type": "code",
   "execution_count": 15,
   "metadata": {},
   "outputs": [],
   "source": [
    "# copy the DB to map colums on\n",
    "all_ucsd_clust = all_ucsd.copy()\n",
    "#create a 'sub_id' col to map the label_dict\n",
    "all_ucsd_clust['sub_id'] = all_ucsd_clust.index"
   ]
  },
  {
   "cell_type": "code",
   "execution_count": 16,
   "metadata": {},
   "outputs": [
    {
     "name": "stdout",
     "output_type": "stream",
     "text": [
      "(14880, 76)\n"
     ]
    },
    {
     "data": {
      "text/html": [
       "<div>\n",
       "<style scoped>\n",
       "    .dataframe tbody tr th:only-of-type {\n",
       "        vertical-align: middle;\n",
       "    }\n",
       "\n",
       "    .dataframe tbody tr th {\n",
       "        vertical-align: top;\n",
       "    }\n",
       "\n",
       "    .dataframe thead th {\n",
       "        text-align: right;\n",
       "    }\n",
       "</style>\n",
       "<table border=\"1\" class=\"dataframe\">\n",
       "  <thead>\n",
       "    <tr style=\"text-align: right;\">\n",
       "      <th></th>\n",
       "      <th>Unnamed: 0</th>\n",
       "      <th>gender</th>\n",
       "      <th>ethnicity</th>\n",
       "      <th>race</th>\n",
       "      <th>recentDxJ_dxCode</th>\n",
       "      <th>vine_subjectid</th>\n",
       "      <th>vine_agemo</th>\n",
       "      <th>vine_ComRecep_Raw</th>\n",
       "      <th>vine_ComRecep_Adap</th>\n",
       "      <th>vine_ComRecep_AgeEq_mo</th>\n",
       "      <th>...</th>\n",
       "      <th>mullen_RLT</th>\n",
       "      <th>mullen_RL_Raw</th>\n",
       "      <th>mullen_RL_AgeEq</th>\n",
       "      <th>mullen_ELT</th>\n",
       "      <th>mullen_EL_Raw</th>\n",
       "      <th>mullen_EL_AgeEq</th>\n",
       "      <th>mullen_ELC_Std</th>\n",
       "      <th>time</th>\n",
       "      <th>sub_id</th>\n",
       "      <th>cluster</th>\n",
       "    </tr>\n",
       "    <tr>\n",
       "      <th>subjectid</th>\n",
       "      <th></th>\n",
       "      <th></th>\n",
       "      <th></th>\n",
       "      <th></th>\n",
       "      <th></th>\n",
       "      <th></th>\n",
       "      <th></th>\n",
       "      <th></th>\n",
       "      <th></th>\n",
       "      <th></th>\n",
       "      <th></th>\n",
       "      <th></th>\n",
       "      <th></th>\n",
       "      <th></th>\n",
       "      <th></th>\n",
       "      <th></th>\n",
       "      <th></th>\n",
       "      <th></th>\n",
       "      <th></th>\n",
       "      <th></th>\n",
       "      <th></th>\n",
       "    </tr>\n",
       "  </thead>\n",
       "  <tbody>\n",
       "    <tr>\n",
       "      <th>A2A4U</th>\n",
       "      <td>0</td>\n",
       "      <td>M</td>\n",
       "      <td>Unknown</td>\n",
       "      <td>Unknown</td>\n",
       "      <td>TD</td>\n",
       "      <td>A2A4U</td>\n",
       "      <td>23.0</td>\n",
       "      <td>23.0</td>\n",
       "      <td>Adequate</td>\n",
       "      <td>23.0</td>\n",
       "      <td>...</td>\n",
       "      <td>47.0</td>\n",
       "      <td>23.0</td>\n",
       "      <td>23.0</td>\n",
       "      <td>46.0</td>\n",
       "      <td>21.0</td>\n",
       "      <td>22.0</td>\n",
       "      <td>101.0</td>\n",
       "      <td>1</td>\n",
       "      <td>A2A4U</td>\n",
       "      <td>TD</td>\n",
       "    </tr>\n",
       "    <tr>\n",
       "      <th>A2A4U</th>\n",
       "      <td>0</td>\n",
       "      <td>M</td>\n",
       "      <td>Unknown</td>\n",
       "      <td>Unknown</td>\n",
       "      <td>TD</td>\n",
       "      <td>A2A4U</td>\n",
       "      <td>35.0</td>\n",
       "      <td>75.0</td>\n",
       "      <td>ModHigh</td>\n",
       "      <td>102.0</td>\n",
       "      <td>...</td>\n",
       "      <td>49.0</td>\n",
       "      <td>31.0</td>\n",
       "      <td>34.0</td>\n",
       "      <td>47.0</td>\n",
       "      <td>30.0</td>\n",
       "      <td>33.0</td>\n",
       "      <td>102.0</td>\n",
       "      <td>2</td>\n",
       "      <td>A2A4U</td>\n",
       "      <td>TD</td>\n",
       "    </tr>\n",
       "    <tr>\n",
       "      <th>A2A4U</th>\n",
       "      <td>0</td>\n",
       "      <td>M</td>\n",
       "      <td>Unknown</td>\n",
       "      <td>Unknown</td>\n",
       "      <td>TD</td>\n",
       "      <td>A2A4U</td>\n",
       "      <td>NaN</td>\n",
       "      <td>NaN</td>\n",
       "      <td>NaN</td>\n",
       "      <td>NaN</td>\n",
       "      <td>...</td>\n",
       "      <td>NaN</td>\n",
       "      <td>NaN</td>\n",
       "      <td>NaN</td>\n",
       "      <td>NaN</td>\n",
       "      <td>NaN</td>\n",
       "      <td>NaN</td>\n",
       "      <td>NaN</td>\n",
       "      <td>3</td>\n",
       "      <td>A2A4U</td>\n",
       "      <td>TD</td>\n",
       "    </tr>\n",
       "    <tr>\n",
       "      <th>A2A4U</th>\n",
       "      <td>0</td>\n",
       "      <td>M</td>\n",
       "      <td>Unknown</td>\n",
       "      <td>Unknown</td>\n",
       "      <td>TD</td>\n",
       "      <td>A2A4U</td>\n",
       "      <td>NaN</td>\n",
       "      <td>NaN</td>\n",
       "      <td>NaN</td>\n",
       "      <td>NaN</td>\n",
       "      <td>...</td>\n",
       "      <td>NaN</td>\n",
       "      <td>NaN</td>\n",
       "      <td>NaN</td>\n",
       "      <td>NaN</td>\n",
       "      <td>NaN</td>\n",
       "      <td>NaN</td>\n",
       "      <td>NaN</td>\n",
       "      <td>4</td>\n",
       "      <td>A2A4U</td>\n",
       "      <td>TD</td>\n",
       "    </tr>\n",
       "    <tr>\n",
       "      <th>A2A4U</th>\n",
       "      <td>0</td>\n",
       "      <td>M</td>\n",
       "      <td>Unknown</td>\n",
       "      <td>Unknown</td>\n",
       "      <td>TD</td>\n",
       "      <td>A2A4U</td>\n",
       "      <td>NaN</td>\n",
       "      <td>NaN</td>\n",
       "      <td>NaN</td>\n",
       "      <td>NaN</td>\n",
       "      <td>...</td>\n",
       "      <td>NaN</td>\n",
       "      <td>NaN</td>\n",
       "      <td>NaN</td>\n",
       "      <td>NaN</td>\n",
       "      <td>NaN</td>\n",
       "      <td>NaN</td>\n",
       "      <td>NaN</td>\n",
       "      <td>5</td>\n",
       "      <td>A2A4U</td>\n",
       "      <td>TD</td>\n",
       "    </tr>\n",
       "  </tbody>\n",
       "</table>\n",
       "<p>5 rows × 76 columns</p>\n",
       "</div>"
      ],
      "text/plain": [
       "           Unnamed: 0 gender ethnicity     race recentDxJ_dxCode  \\\n",
       "subjectid                                                          \n",
       "A2A4U               0      M   Unknown  Unknown               TD   \n",
       "A2A4U               0      M   Unknown  Unknown               TD   \n",
       "A2A4U               0      M   Unknown  Unknown               TD   \n",
       "A2A4U               0      M   Unknown  Unknown               TD   \n",
       "A2A4U               0      M   Unknown  Unknown               TD   \n",
       "\n",
       "          vine_subjectid  vine_agemo  vine_ComRecep_Raw vine_ComRecep_Adap  \\\n",
       "subjectid                                                                    \n",
       "A2A4U              A2A4U        23.0               23.0           Adequate   \n",
       "A2A4U              A2A4U        35.0               75.0            ModHigh   \n",
       "A2A4U              A2A4U         NaN                NaN                NaN   \n",
       "A2A4U              A2A4U         NaN                NaN                NaN   \n",
       "A2A4U              A2A4U         NaN                NaN                NaN   \n",
       "\n",
       "           vine_ComRecep_AgeEq_mo  ...  mullen_RLT mullen_RL_Raw  \\\n",
       "subjectid                          ...                             \n",
       "A2A4U                        23.0  ...        47.0          23.0   \n",
       "A2A4U                       102.0  ...        49.0          31.0   \n",
       "A2A4U                         NaN  ...         NaN           NaN   \n",
       "A2A4U                         NaN  ...         NaN           NaN   \n",
       "A2A4U                         NaN  ...         NaN           NaN   \n",
       "\n",
       "           mullen_RL_AgeEq  mullen_ELT mullen_EL_Raw  mullen_EL_AgeEq  \\\n",
       "subjectid                                                               \n",
       "A2A4U                 23.0        46.0          21.0             22.0   \n",
       "A2A4U                 34.0        47.0          30.0             33.0   \n",
       "A2A4U                  NaN         NaN           NaN              NaN   \n",
       "A2A4U                  NaN         NaN           NaN              NaN   \n",
       "A2A4U                  NaN         NaN           NaN              NaN   \n",
       "\n",
       "           mullen_ELC_Std time  sub_id cluster  \n",
       "subjectid                                       \n",
       "A2A4U               101.0    1   A2A4U      TD  \n",
       "A2A4U               102.0    2   A2A4U      TD  \n",
       "A2A4U                 NaN    3   A2A4U      TD  \n",
       "A2A4U                 NaN    4   A2A4U      TD  \n",
       "A2A4U                 NaN    5   A2A4U      TD  \n",
       "\n",
       "[5 rows x 76 columns]"
      ]
     },
     "execution_count": 16,
     "metadata": {},
     "output_type": "execute_result"
    }
   ],
   "source": [
    "### to create the \"cluster_clolumn\"\n",
    "# 1) map col 'sub_id' on label_dict (output from the classifier for ASD subject whose 1st assessment is \n",
    "# before 72 months and have a logitudinal data (at least 2 time points)\n",
    "# 2) map col 'recentDxJ_dxCode' on diagnosis_dict(to get instead of clusters the diagnosis for TD DD LD MD and syb)\n",
    "\n",
    "all_ucsd_clust['cluster'] = all_ucsd_clust['sub_id'].map(label_dict).to_frame(name='cluster').combine_first(all_ucsd_clust['recentDxJ_dxCode'].map(diagnosis_dict).to_frame(name='cluster'))\n",
    "\n",
    "print(all_ucsd_clust.shape)\n",
    "all_ucsd_clust.head()\n"
   ]
  },
  {
   "cell_type": "code",
   "execution_count": 18,
   "metadata": {},
   "outputs": [
    {
     "data": {
      "text/plain": [
       "'/Users/vmandelli/OneDrive - Fondazione Istituto Italiano Tecnologia/vineland_proj_edition/results'"
      ]
     },
     "execution_count": 18,
     "metadata": {},
     "output_type": "execute_result"
    }
   ],
   "source": [
    "# save the new DBs\n",
    "path2save = ut.out_folder\n",
    "all_ucsd_clust.to_csv(os.path.join(path2save,'ucsd_long_allSubj_clusters_061022.csv'))\n",
    "ut.out_folder"
   ]
  },
  {
   "cell_type": "code",
   "execution_count": 19,
   "metadata": {},
   "outputs": [
    {
     "data": {
      "text/plain": [
       "1185"
      ]
     },
     "execution_count": 19,
     "metadata": {},
     "output_type": "execute_result"
    }
   ],
   "source": [
    "# check that I have 1185 ASD subject at T1 <72\n",
    "all_ucsd_clust_t1= all_ucsd_clust[all_ucsd_clust['time']==1]\n",
    "all_ucsd_clust_t1['cluster'].isin([1,2,0]).sum()\n"
   ]
  },
  {
   "cell_type": "markdown",
   "metadata": {},
   "source": [
    "## run the model! in future studies ..."
   ]
  },
  {
   "cell_type": "code",
   "execution_count": 20,
   "metadata": {},
   "outputs": [],
   "source": [
    "#prepare the cell to run the classifier on every type if DBS\n",
    "\n",
    "## with UMAP\n",
    "Model =  pkl.load(open(os.path.join(ut.out_folder, \"fittedmodelDomainONLY_NDARts.sav\"), 'rb'))\n",
    "umap = pkl.load(open(os.path.join(ut.out_folder, 'umapDomainONLY_NDARts.sav'), 'rb'))\n",
    "scaler = pkl.load(open(os.path.join(ut.out_folder, 'scalerDomainONLY_NDARts.sav'), 'rb'))\n",
    "\n",
    "## no umap\n",
    "#Model =  pkl.load(open(os.path.join(ut.out_folder, \"NO_UMAP/fittedmodelDomainONLY_NDARts.sav\"), 'rb'))\n",
    "#scaler = pkl.load(open(os.path.join(ut.out_folder, 'NO_UMAP/scalerDomainONLY_NDARts.sav'), 'rb'))\n",
    "\n",
    "\n",
    "def run_KNN_VABS(X):\n",
    "    subj = X.index\n",
    "\n",
    "    New_X_ts = umap.transform(scaler.transform(X))\n",
    "    pred_labels = Model.predict(New_X_ts)\n",
    "    \n",
    "    label_dict = {s: lab for s, lab in zip(subj, pred_labels)}\n",
    "    \n",
    "    return label_dict"
   ]
  },
  {
   "cell_type": "code",
   "execution_count": 21,
   "metadata": {
    "scrolled": false
   },
   "outputs": [],
   "source": [
    "# to check it works the same as before RESULTS should be equal to label label_dict (use the same X_ts (from UCSD))\n",
    "RESULTS = run_KNN_VABS(X_ts)\n"
   ]
  },
  {
   "cell_type": "code",
   "execution_count": 28,
   "metadata": {},
   "outputs": [],
   "source": [
    "### STOP here"
   ]
  }
 ],
 "metadata": {
  "kernelspec": {
   "display_name": "Python 3",
   "language": "python",
   "name": "python3"
  },
  "language_info": {
   "codemirror_mode": {
    "name": "ipython",
    "version": 3
   },
   "file_extension": ".py",
   "mimetype": "text/x-python",
   "name": "python",
   "nbconvert_exporter": "python",
   "pygments_lexer": "ipython3",
   "version": "3.8.1"
  }
 },
 "nbformat": 4,
 "nbformat_minor": 4
}
