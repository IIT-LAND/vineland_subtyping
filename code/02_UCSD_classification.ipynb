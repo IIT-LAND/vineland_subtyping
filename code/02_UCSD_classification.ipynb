{
 "cells": [
  {
   "cell_type": "markdown",
   "metadata": {},
   "source": [
    "# UCSD classification on VABS domain\n",
    "\n",
    "in this notebook UCSD subject, whose T1<72 months, are classified in respective VABS domain clusters. \n",
    "\n",
    "The classifier is trained on NDAR testset."
   ]
  },
  {
   "cell_type": "code",
   "execution_count": 1,
   "metadata": {},
   "outputs": [],
   "source": [
    "#import libraries\n",
    "from strat.create_dataset import dataset, prepare_imputation\n",
    "#from strat.run_rcv import RCV, relabel\n",
    "import strat.utils as ut\n",
    "import logging\n",
    "import numpy as np\n",
    "import pandas as pd\n",
    "import logging\n",
    "from strat.create_long_ndar import build_long\n",
    "from sklearn.impute import KNNImputer\n",
    "from sklearn.neighbors import KNeighborsClassifier\n",
    "import re\n",
    "from sklearn.preprocessing import StandardScaler\n",
    "from umap import UMAP\n",
    "from strat.ucsd_dataset_mod import  create_new,predict_labels,predict_labels_no_umap #prepare_ucsd,\n",
    "import pickle as pkl\n",
    "import os\n",
    "from reval.best_nclust_cv import FindBestClustCV\n",
    "from sklearn.cluster import KMeans\n",
    "from strat.visualization import _scatter_plot\n",
    "from strat.run_rcv import _build_distmat"
   ]
  },
  {
   "cell_type": "markdown",
   "metadata": {},
   "source": [
    "## import data and reformat them \n",
    "select only a subset of them, dived input features from labels"
   ]
  },
  {
   "cell_type": "code",
   "execution_count": 2,
   "metadata": {},
   "outputs": [],
   "source": [
    "## import data from NDA, already splitted into age bins. \n",
    "## we select only P1 data(less that 72 months), with the imputed missing data, and save them into a dictionary (new_dict_p1)\n",
    "\n",
    "# train\n",
    "new_dict_p1_tr = pd.read_csv(os.path.join(ut.out_folder,'imputed_data_P1_tr.csv'),delimiter=',', index_col='subjectkey')\n",
    "# test\n",
    "new_dict_p1_ts = pd.read_csv(os.path.join(ut.out_folder,'imputed_data_P1_ts.csv'),delimiter=',', index_col='subjectkey')\n",
    "\n",
    "# bind them together\n",
    "new_dict_p1 = {'P1': (new_dict_p1_tr.copy(), new_dict_p1_ts.copy())}\n"
   ]
  },
  {
   "cell_type": "code",
   "execution_count": 3,
   "metadata": {},
   "outputs": [],
   "source": [
    "# Import data from UCSD\n",
    "ucsd_data = pd.read_csv(os.path.join(ut.tidy_data_folder,'ucsd','tidy_ucsd_long_asd_onlyT1.csv'),index_col='subjectid')\n"
   ]
  },
  {
   "cell_type": "code",
   "execution_count": 5,
   "metadata": {},
   "outputs": [],
   "source": [
    "#define the columns I want as features (VABS domanin columns)\n",
    "\n",
    "ndar_feat = [ 'communicationdomain_totalb',\n",
    "             'livingskillsdomain_totalb',\n",
    "             'socializationdomain_totalb',\n",
    "             'motorskillsdomain_totalb']\n",
    "\n",
    "ucsd_feat = ['vine_ComTotal_DomStd',\n",
    "             'vine_DlyTotal_DomStd',\n",
    "             'vine_SocTotal_DomStd',\n",
    "             'vine_MtrTotal_DomStd']"
   ]
  },
  {
   "cell_type": "code",
   "execution_count": 6,
   "metadata": {},
   "outputs": [
    {
     "data": {
      "text/html": [
       "<div>\n",
       "<style scoped>\n",
       "    .dataframe tbody tr th:only-of-type {\n",
       "        vertical-align: middle;\n",
       "    }\n",
       "\n",
       "    .dataframe tbody tr th {\n",
       "        vertical-align: top;\n",
       "    }\n",
       "\n",
       "    .dataframe thead th {\n",
       "        text-align: right;\n",
       "    }\n",
       "</style>\n",
       "<table border=\"1\" class=\"dataframe\">\n",
       "  <thead>\n",
       "    <tr style=\"text-align: right;\">\n",
       "      <th></th>\n",
       "      <th>communicationdomain_totalb</th>\n",
       "      <th>livingskillsdomain_totalb</th>\n",
       "      <th>socializationdomain_totalb</th>\n",
       "      <th>motorskillsdomain_totalb</th>\n",
       "    </tr>\n",
       "    <tr>\n",
       "      <th>subjectkey</th>\n",
       "      <th></th>\n",
       "      <th></th>\n",
       "      <th></th>\n",
       "      <th></th>\n",
       "    </tr>\n",
       "  </thead>\n",
       "  <tbody>\n",
       "    <tr>\n",
       "      <th>NDARAA668AC0</th>\n",
       "      <td>72.0</td>\n",
       "      <td>55.0</td>\n",
       "      <td>66.0</td>\n",
       "      <td>72.0</td>\n",
       "    </tr>\n",
       "    <tr>\n",
       "      <th>NDARAB839WV5</th>\n",
       "      <td>81.0</td>\n",
       "      <td>62.0</td>\n",
       "      <td>65.0</td>\n",
       "      <td>67.0</td>\n",
       "    </tr>\n",
       "    <tr>\n",
       "      <th>NDARAB989DG5</th>\n",
       "      <td>63.0</td>\n",
       "      <td>73.0</td>\n",
       "      <td>68.0</td>\n",
       "      <td>70.0</td>\n",
       "    </tr>\n",
       "    <tr>\n",
       "      <th>NDARAC070DYV</th>\n",
       "      <td>89.8</td>\n",
       "      <td>98.0</td>\n",
       "      <td>95.0</td>\n",
       "      <td>82.0</td>\n",
       "    </tr>\n",
       "    <tr>\n",
       "      <th>NDARAC098YNP</th>\n",
       "      <td>91.0</td>\n",
       "      <td>71.0</td>\n",
       "      <td>77.0</td>\n",
       "      <td>84.0</td>\n",
       "    </tr>\n",
       "  </tbody>\n",
       "</table>\n",
       "</div>"
      ],
      "text/plain": [
       "              communicationdomain_totalb  livingskillsdomain_totalb  \\\n",
       "subjectkey                                                            \n",
       "NDARAA668AC0                        72.0                       55.0   \n",
       "NDARAB839WV5                        81.0                       62.0   \n",
       "NDARAB989DG5                        63.0                       73.0   \n",
       "NDARAC070DYV                        89.8                       98.0   \n",
       "NDARAC098YNP                        91.0                       71.0   \n",
       "\n",
       "              socializationdomain_totalb  motorskillsdomain_totalb  \n",
       "subjectkey                                                          \n",
       "NDARAA668AC0                        66.0                      72.0  \n",
       "NDARAB839WV5                        65.0                      67.0  \n",
       "NDARAB989DG5                        68.0                      70.0  \n",
       "NDARAC070DYV                        95.0                      82.0  \n",
       "NDARAC098YNP                        77.0                      84.0  "
      ]
     },
     "execution_count": 6,
     "metadata": {},
     "output_type": "execute_result"
    }
   ],
   "source": [
    "# select NDA test set as the new training set (to train the classifier), so that we avoid circularities of using data multiple times.\n",
    "new_TR_data = new_dict_p1['P1'][1] \n",
    "\n",
    "# Prepare it to be in the correct format to be the train set\n",
    "X_tr = new_TR_data[[c for c in ndar_feat]]\n",
    "y_tr = new_TR_data['cluster_domain']\n",
    "\n",
    "#check it is ok (it should have subject on the rows and the 4 VABS subscles in the columns (COM-DLS-SOC-MOT))\n",
    "X_tr.head()\n"
   ]
  },
  {
   "cell_type": "code",
   "execution_count": 7,
   "metadata": {},
   "outputs": [
    {
     "name": "stderr",
     "output_type": "stream",
     "text": [
      "17:31:59, INFO  Selected subjects at their first encounter done at age included in period P1. Mean (sd) interview age is 25.45 (8.45) -- Min / Max:[9.56; 69.91]\n"
     ]
    },
    {
     "name": "stdout",
     "output_type": "stream",
     "text": [
      "(1216, 4)\n"
     ]
    }
   ],
   "source": [
    "# Preapre UCSD to be in the correct format to be insert in the classifies to be labels)\n",
    "X_ts = ucsd_data[ucsd_data['vine_agemo']<=72]\n",
    "\n",
    "logging.info(f' Selected subjects at their first encounter done at age included in '\n",
    "                 f'period P1. Mean (sd) interview age is {round(X_ts.vine_agemo.describe()[\"mean\"], 2)} '\n",
    "                 f'({round(X_ts.vine_agemo.describe()[\"std\"], 2)}) '\n",
    "                 f'-- Min / Max:[{round(X_ts.vine_agemo.describe()[\"min\"], 2)}; '\n",
    "                 f'{round(X_ts.vine_agemo.describe()[\"max\"], 2)}]')\n",
    "\n",
    "X_ts= X_ts[ucsd_feat]\n",
    "print(X_ts.shape)\n"
   ]
  },
  {
   "cell_type": "code",
   "execution_count": 8,
   "metadata": {},
   "outputs": [],
   "source": [
    "# preapre the DBs to insert in as the algorithm requires\n",
    "\n",
    "#X_tr, y_tr, X_ts, ucsd = prepare_ucsd(new_TR_data, ucsd_data, period='P1') \n",
    "# rember python start to count from 0 , so new_dict_p1['P1'][1] 1 here means ts (= test set), \n",
    "# we train the algorithm on the NDAR test set to avoid circularity   -- From ucsd_dataselect only subject whose T1 is in P1 Range\n",
    "# problem is that reval overfit the training set,"
   ]
  },
  {
   "cell_type": "markdown",
   "metadata": {},
   "source": [
    "## train the classifier"
   ]
  },
  {
   "cell_type": "code",
   "execution_count": 8,
   "metadata": {},
   "outputs": [],
   "source": [
    "# train the classifier\n",
    "\n",
    "# initialize che classifier\n",
    "classifier = KNeighborsClassifier(n_neighbors = 5)\n",
    "\n",
    "# predict labels using a self build function strat/ucsd_dataset_mod.predict_labels\n",
    "label_dict, model_fit, Scaler, Umap = predict_labels(X_tr, X_ts, y_tr, classifier)\n"
   ]
  },
  {
   "cell_type": "code",
   "execution_count": 9,
   "metadata": {},
   "outputs": [],
   "source": [
    "# remap the labels on the original UCSD dataframe\n",
    "ucsd_data['cluster_domain']= ucsd_data.index.map(label_dict)"
   ]
  },
  {
   "cell_type": "markdown",
   "metadata": {},
   "source": [
    "## Merge the long_ucsd DB with the cluster + create fake clusters for other diagnosis\n",
    "\n",
    "take the database in long format with both ASD and TD (other diagnosis) and all the measures (vineland , mullen, ados)"
   ]
  },
  {
   "cell_type": "code",
   "execution_count": 10,
   "metadata": {},
   "outputs": [
    {
     "name": "stdout",
     "output_type": "stream",
     "text": [
      "(14880, 74)\n"
     ]
    }
   ],
   "source": [
    "# import ucsd_long all subject\n",
    "all_ucsd = pd.read_csv(os.path.join(ut.tidy_data_folder,'ucsd','tidy_ucsd_long_allsubj.csv'),index_col='subjectid')\n",
    "print(all_ucsd.shape)\n"
   ]
  },
  {
   "cell_type": "code",
   "execution_count": 11,
   "metadata": {},
   "outputs": [],
   "source": [
    "# a new_dictionary to add also TD DD LD MN and SYB (as cluster labels) :\n",
    "\n",
    "# TD (typically development)= PrevDDTyp ,PrevLDDTyp,TD  \n",
    "# DD (developmental delay) = DD+ GDD\n",
    "# LD (language delay)\n",
    "# MD (motor delay) = FMD + MD motor delay \n",
    "# syb (syblings) = Typ Sib ASD   \n",
    "\n",
    "diagnosis_dict={\"TD\":\"TD\",\n",
    "                'PrevLDDTyp':'TD',\n",
    "                'PrevDDTyp':'TD',\n",
    "                'DD': \"DD\",\n",
    "                'GDD' : 'DD',\n",
    "                'LD': \"LD\",\n",
    "                'FMD': 'MD',\n",
    "                'MD':'MD',\n",
    "                'Typ Sib ASD':\"syb\"}"
   ]
  },
  {
   "cell_type": "code",
   "execution_count": 12,
   "metadata": {},
   "outputs": [],
   "source": [
    "# copy the DB to map colums on\n",
    "all_ucsd_clust = all_ucsd.copy()\n",
    "#create a 'sub_id' col to map the label_dict\n",
    "all_ucsd_clust['sub_id'] = all_ucsd_clust.index"
   ]
  },
  {
   "cell_type": "code",
   "execution_count": 13,
   "metadata": {},
   "outputs": [
    {
     "name": "stdout",
     "output_type": "stream",
     "text": [
      "(14880, 76)\n"
     ]
    }
   ],
   "source": [
    "### to create the \"cluster_clolumn\"\n",
    "# 1) map col 'sub_id' on label_dict (output from the classifier for ASD subject whose 1st assessment is \n",
    "# before 72 months and have a logitudinal data (at least 2 time points)\n",
    "# 2) map col 'recentDxJ_dxCode' on diagnosis_dict(to get instead of clusters the diagnosis for TD DD LD MD and syb)\n",
    "\n",
    "all_ucsd_clust['cluster'] = all_ucsd_clust['sub_id'].map(label_dict).to_frame(name='cluster').combine_first(all_ucsd_clust['recentDxJ_dxCode'].map(diagnosis_dict).to_frame(name='cluster'))\n",
    "\n",
    "print(all_ucsd_clust.shape)\n",
    "\n"
   ]
  },
  {
   "cell_type": "code",
   "execution_count": 15,
   "metadata": {},
   "outputs": [],
   "source": [
    "# save the new DBs\n",
    "path2save = ut.out_folder\n",
    "all_ucsd_clust.to_csv(os.path.join(path2save,'ucsd_long_allSubj_clusters.csv'))\n"
   ]
  },
  {
   "cell_type": "code",
   "execution_count": 16,
   "metadata": {},
   "outputs": [
    {
     "data": {
      "text/plain": [
       "1216"
      ]
     },
     "execution_count": 16,
     "metadata": {},
     "output_type": "execute_result"
    }
   ],
   "source": [
    "# check that I have 1216 ASD subject at T1 <72\n",
    "all_ucsd_clust_t1= all_ucsd_clust[all_ucsd_clust['time']==1]\n",
    "all_ucsd_clust_t1['cluster'].isin([1,2,3]).sum()\n"
   ]
  },
  {
   "cell_type": "markdown",
   "metadata": {},
   "source": [
    "## run the model! in future studies ..."
   ]
  },
  {
   "cell_type": "code",
   "execution_count": 17,
   "metadata": {},
   "outputs": [],
   "source": [
    "#prepare the cell to run the classifier on every type if DBS\n",
    "\n",
    "## with UMAP\n",
    "Model =  pkl.load(open(os.path.join(ut.out_folder, \"fittedmodelDomainONLY_NDARts.sav\"), 'rb'))\n",
    "umap = pkl.load(open(os.path.join(ut.out_folder, 'umapDomainONLY_NDARts.sav'), 'rb'))\n",
    "scaler = pkl.load(open(os.path.join(ut.out_folder, 'scalerDomainONLY_NDARts.sav'), 'rb'))\n",
    "\n",
    "## no umap\n",
    "#Model =  pkl.load(open(os.path.join(ut.out_folder, \"NO_UMAP/fittedmodelDomainONLY_NDARts.sav\"), 'rb'))\n",
    "#scaler = pkl.load(open(os.path.join(ut.out_folder, 'NO_UMAP/scalerDomainONLY_NDARts.sav'), 'rb'))\n",
    "\n",
    "\n",
    "def run_KNN_VABS(X):\n",
    "    subj = X.index\n",
    "\n",
    "    New_X_ts = umap.transform(scaler.transform(X))\n",
    "    pred_labels = Model.predict(New_X_ts)\n",
    "    \n",
    "    label_dict = {s: lab for s, lab in zip(subj, pred_labels)}\n",
    "    \n",
    "    return label_dict"
   ]
  },
  {
   "cell_type": "code",
   "execution_count": 19,
   "metadata": {
    "scrolled": false
   },
   "outputs": [],
   "source": [
    "# to check it works the same as before RESULTS should be equal to label label_dict (use the same X_ts (from UCSD))\n",
    "RESULTS = run_KNN_VABS(X_ts)\n"
   ]
  },
  {
   "cell_type": "code",
   "execution_count": null,
   "metadata": {},
   "outputs": [],
   "source": [
    "### STOP here"
   ]
  }
 ],
 "metadata": {
  "kernelspec": {
   "display_name": "Python 3",
   "language": "python",
   "name": "python3"
  },
  "language_info": {
   "codemirror_mode": {
    "name": "ipython",
    "version": 3
   },
   "file_extension": ".py",
   "mimetype": "text/x-python",
   "name": "python",
   "nbconvert_exporter": "python",
   "pygments_lexer": "ipython3",
   "version": "3.8.1"
  }
 },
 "nbformat": 4,
 "nbformat_minor": 4
}
